{
 "cells": [
  {
   "cell_type": "code",
   "execution_count": 76,
   "metadata": {},
   "outputs": [
    {
     "name": "stdout",
     "output_type": "stream",
     "text": [
      "<urlopen error timed out>\n",
      "<urlopen error timed out>\n"
     ]
    }
   ],
   "source": [
    "import tushare as ts\n",
    "import matplotlib.pyplot as plt\n",
    "import matplotlib.finance as mpf\n",
    "import numpy as np\n",
    "import talib as talib\n",
    "import pandas as pd\n",
    "import datetime as dt\n",
    "\n",
    "#取所有2n天内的低点\n",
    "def get_low_point(df,columns,n):\n",
    "    conds = (df[columns]==df[columns])\n",
    "    for i in range(0,n):\n",
    "        conds = conds & (df[columns].shift(i+1)>=df[columns]) &  (df[columns].shift(-i-1)>=df[columns])  \n",
    "    return df[conds] \n",
    "\n",
    "#取所有2n天内的高点\n",
    "def get_high_point(df,columns,n):\n",
    "    conds = (df[columns]==df[columns])\n",
    "    for i in range(0,n):\n",
    "        conds = conds & (df[columns].shift(i+1)<=df[columns]) &  (df[columns].shift(-i-1)<=df[columns])  \n",
    "    return df[conds]\n",
    "\n",
    "data = ts.get_k_data('002023', ktype='m',autype=\"qfq\",index=False,start='2001-01-01', end='2018-05-15')\n",
    "#RSI\n",
    "data[\"rsi\"] = talib.RSI(data['close'].values, timeperiod=9)"
   ]
  },
  {
   "cell_type": "code",
   "execution_count": 83,
   "metadata": {},
   "outputs": [
    {
     "data": {
      "text/html": [
       "<div>\n",
       "<style scoped>\n",
       "    .dataframe tbody tr th:only-of-type {\n",
       "        vertical-align: middle;\n",
       "    }\n",
       "\n",
       "    .dataframe tbody tr th {\n",
       "        vertical-align: top;\n",
       "    }\n",
       "\n",
       "    .dataframe thead th {\n",
       "        text-align: right;\n",
       "    }\n",
       "</style>\n",
       "<table border=\"1\" class=\"dataframe\">\n",
       "  <thead>\n",
       "    <tr style=\"text-align: right;\">\n",
       "      <th></th>\n",
       "      <th>date</th>\n",
       "      <th>open</th>\n",
       "      <th>close</th>\n",
       "      <th>high</th>\n",
       "      <th>low</th>\n",
       "      <th>volume</th>\n",
       "      <th>code</th>\n",
       "      <th>rsi</th>\n",
       "    </tr>\n",
       "  </thead>\n",
       "  <tbody>\n",
       "    <tr>\n",
       "      <th>101</th>\n",
       "      <td>2012-12-31</td>\n",
       "      <td>4.002</td>\n",
       "      <td>4.571</td>\n",
       "      <td>4.591</td>\n",
       "      <td>3.744</td>\n",
       "      <td>907748.0</td>\n",
       "      <td>002023</td>\n",
       "      <td>46.077176</td>\n",
       "    </tr>\n",
       "    <tr>\n",
       "      <th>140</th>\n",
       "      <td>2016-03-31</td>\n",
       "      <td>12.553</td>\n",
       "      <td>15.711</td>\n",
       "      <td>16.503</td>\n",
       "      <td>11.831</td>\n",
       "      <td>3303322.0</td>\n",
       "      <td>002023</td>\n",
       "      <td>50.349510</td>\n",
       "    </tr>\n",
       "    <tr>\n",
       "      <th>163</th>\n",
       "      <td>2018-02-28</td>\n",
       "      <td>9.360</td>\n",
       "      <td>9.390</td>\n",
       "      <td>9.750</td>\n",
       "      <td>7.700</td>\n",
       "      <td>1898272.0</td>\n",
       "      <td>002023</td>\n",
       "      <td>33.807075</td>\n",
       "    </tr>\n",
       "  </tbody>\n",
       "</table>\n",
       "</div>"
      ],
      "text/plain": [
       "           date    open   close    high     low     volume    code        rsi\n",
       "101  2012-12-31   4.002   4.571   4.591   3.744   907748.0  002023  46.077176\n",
       "140  2016-03-31  12.553  15.711  16.503  11.831  3303322.0  002023  50.349510\n",
       "163  2018-02-28   9.360   9.390   9.750   7.700  1898272.0  002023  33.807075"
      ]
     },
     "execution_count": 83,
     "metadata": {},
     "output_type": "execute_result"
    }
   ],
   "source": [
    "#取底背离点\n",
    "def get_low_beili(df,columns1, columns2):\n",
    "    return df[ (df[columns1].shift(1)>df[columns1]) & (df[columns2].shift(1)<df[columns2])  ]\n",
    "\n",
    "def get_high_beili(df,columns1, columns2):\n",
    "    return df[ (df[columns1].shift(1)<df[columns1]) & (df[columns2].shift(1)>df[columns2])  ]\n",
    "\n",
    "k_LowPoint= get_low_point(data,\"low\",2).dropna()\n",
    "get_low_beili(k_LowPoint,\"low\",\"rsi\")\n",
    "\n",
    "\n"
   ]
  },
  {
   "cell_type": "code",
   "execution_count": 82,
   "metadata": {},
   "outputs": [
    {
     "data": {
      "text/html": [
       "<div>\n",
       "<style scoped>\n",
       "    .dataframe tbody tr th:only-of-type {\n",
       "        vertical-align: middle;\n",
       "    }\n",
       "\n",
       "    .dataframe tbody tr th {\n",
       "        vertical-align: top;\n",
       "    }\n",
       "\n",
       "    .dataframe thead th {\n",
       "        text-align: right;\n",
       "    }\n",
       "</style>\n",
       "<table border=\"1\" class=\"dataframe\">\n",
       "  <thead>\n",
       "    <tr style=\"text-align: right;\">\n",
       "      <th></th>\n",
       "      <th>date</th>\n",
       "      <th>open</th>\n",
       "      <th>close</th>\n",
       "      <th>high</th>\n",
       "      <th>low</th>\n",
       "      <th>volume</th>\n",
       "      <th>code</th>\n",
       "      <th>rsi</th>\n",
       "    </tr>\n",
       "  </thead>\n",
       "  <tbody>\n",
       "    <tr>\n",
       "      <th>76</th>\n",
       "      <td>2010-11-30</td>\n",
       "      <td>8.754</td>\n",
       "      <td>7.638</td>\n",
       "      <td>9.951</td>\n",
       "      <td>7.466</td>\n",
       "      <td>2349035.0</td>\n",
       "      <td>002023</td>\n",
       "      <td>62.170239</td>\n",
       "    </tr>\n",
       "    <tr>\n",
       "      <th>115</th>\n",
       "      <td>2014-02-28</td>\n",
       "      <td>8.147</td>\n",
       "      <td>8.235</td>\n",
       "      <td>9.539</td>\n",
       "      <td>7.847</td>\n",
       "      <td>1221238.0</td>\n",
       "      <td>002023</td>\n",
       "      <td>64.477958</td>\n",
       "    </tr>\n",
       "  </tbody>\n",
       "</table>\n",
       "</div>"
      ],
      "text/plain": [
       "           date   open  close   high    low     volume    code        rsi\n",
       "76   2010-11-30  8.754  7.638  9.951  7.466  2349035.0  002023  62.170239\n",
       "115  2014-02-28  8.147  8.235  9.539  7.847  1221238.0  002023  64.477958"
      ]
     },
     "execution_count": 82,
     "metadata": {},
     "output_type": "execute_result"
    }
   ],
   "source": [
    "k_heightPoint= get_high_point(data,\"high\",2).dropna()\n",
    "get_high_beili(k_heightPoint,\"high\",\"rsi\")\n"
   ]
  },
  {
   "cell_type": "code",
   "execution_count": null,
   "metadata": {},
   "outputs": [],
   "source": [
    " "
   ]
  }
 ],
 "metadata": {
  "kernelspec": {
   "display_name": "Python 2",
   "language": "python",
   "name": "python2"
  },
  "language_info": {
   "codemirror_mode": {
    "name": "ipython",
    "version": 2
   },
   "file_extension": ".py",
   "mimetype": "text/x-python",
   "name": "python",
   "nbconvert_exporter": "python",
   "pygments_lexer": "ipython2",
   "version": "2.7.14"
  }
 },
 "nbformat": 4,
 "nbformat_minor": 2
}
