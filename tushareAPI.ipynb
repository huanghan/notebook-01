{
 "cells": [
  {
   "cell_type": "markdown",
   "metadata": {},
   "source": [
    "### 安装 <a href=\"http://tushare.org/index.html\">tushare</a> \n",
    "    pip install tushare\n",
    " "
   ]
  },
  {
   "cell_type": "code",
   "execution_count": 251,
   "metadata": {},
   "outputs": [],
   "source": [
    "import tushare as ts\n",
    "import matplotlib.pyplot as plt\n",
    "import matplotlib.finance as mpf\n",
    "import numpy as np\n",
    "import talib as talib\n",
    "import pandas as pd\n",
    "import datetime as dt\n",
    "\n",
    "\n",
    "df = ts.get_k_data('002408', ktype='60',autype=\"qfq\",index=False)\n",
    "\n",
    "#RSI\n",
    "df[\"rsi\"] = talib.RSI(df['close'].values, timeperiod=9)\n",
    "df[\"macd\"],df[\"signal\"],df[\"hist\"] = talib.MACD(df['close'].values, fastperiod=12, slowperiod=26, signalperiod=9)\n",
    " \n"
   ]
  },
  {
   "cell_type": "code",
   "execution_count": 252,
   "metadata": {},
   "outputs": [
    {
     "data": {
      "text/plain": [
       "\"\\n#3\\xe6\\x97\\xa5\\xe5\\x86\\x85\\xe7\\x9a\\x84\\xe4\\xbd\\x8e\\xe7\\x82\\xb9\\nrsi_Low= rsi[rsi<rsi.shift(3)][rsi<rsi.shift(2)][rsi<rsi.shift(1)][rsi<rsi.shift(-1)][rsi<rsi.shift(-2)][rsi<rsi.shift(-3)] \\nrsi_Low = rsi_Low.dropna()\\nplt.plot(rsi_Low.index.values,rsi_Low.values,'o',color='red')\\n\\n#\\xe4\\xbd\\x8e\\xe7\\x82\\xb9\\xe7\\x9a\\x84\\xe4\\xbd\\x8e\\xe7\\x82\\xb9\\nrsi_Low_Low = rsi_Low    [ rsi_Low.shift(1) > rsi_Low ]   [ rsi_Low.shift(-1) > rsi_Low ]        \\nrsi_Low_Low= rsi_Low_Low.dropna()\\nplt.plot(rsi_Low_Low.index.values,rsi_Low_Low.values-rsi_Low_Low.values+2,'s',color='red')\\nplt.grid()\\n\""
      ]
     },
     "execution_count": 252,
     "metadata": {},
     "output_type": "execute_result"
    }
   ],
   "source": [
    "data = ts.get_k_data('002023', ktype='m',autype=\"qfq\",index=False,start='2001-01-01', end='2018-05-15')\n",
    "#RSI\n",
    "data[\"rsi\"] = talib.RSI(data['close'].values, timeperiod=9)\n",
    "#绘制RSI线图\n",
    "'''\n",
    "fig, ax = plt.subplots(figsize=(24,5))\n",
    "#设置坐标轴范围\n",
    "plt.xlabel('time')\n",
    "plt.ylabel('rsi')\n",
    "ax = fig.add_subplot(1, 1, 1)\n",
    "ax.set_xticks(range(0, len(data['date']), 10))\n",
    "ax.set_xticklabels(data['date'][::10])\n",
    "ax.legend(loc='upper left')\n",
    "\n",
    "#设置坐标轴范围\n",
    "#plt.xlim((-5, 5))\n",
    "plt.ylim((0, 100))\n",
    "\n",
    "plt.plot(data[\"date\"],data[\"rsi\"],color='red', linewidth=1.0, linestyle='-')\n",
    "plt.axhline(80,alpha=0.5,color='red',linestyle='--') \n",
    "plt.axhline(50,alpha=0.5,color='red',linestyle='--') \n",
    "plt.axhline(20,alpha=0.5,color='red',linestyle='--') \n",
    "'''\n",
    "\n",
    "rsi = data[\"rsi\"]\n",
    "'''\n",
    "#3日内的低点\n",
    "rsi_Low= rsi[rsi<rsi.shift(3)][rsi<rsi.shift(2)][rsi<rsi.shift(1)][rsi<rsi.shift(-1)][rsi<rsi.shift(-2)][rsi<rsi.shift(-3)] \n",
    "rsi_Low = rsi_Low.dropna()\n",
    "plt.plot(rsi_Low.index.values,rsi_Low.values,'o',color='red')\n",
    "\n",
    "#低点的低点\n",
    "rsi_Low_Low = rsi_Low    [ rsi_Low.shift(1) > rsi_Low ]   [ rsi_Low.shift(-1) > rsi_Low ]        \n",
    "rsi_Low_Low= rsi_Low_Low.dropna()\n",
    "plt.plot(rsi_Low_Low.index.values,rsi_Low_Low.values-rsi_Low_Low.values+2,'s',color='red')\n",
    "plt.grid()\n",
    "'''"
   ]
  },
  {
   "cell_type": "code",
   "execution_count": 336,
   "metadata": {},
   "outputs": [
    {
     "data": {
      "text/html": [
       "<div>\n",
       "<style scoped>\n",
       "    .dataframe tbody tr th:only-of-type {\n",
       "        vertical-align: middle;\n",
       "    }\n",
       "\n",
       "    .dataframe tbody tr th {\n",
       "        vertical-align: top;\n",
       "    }\n",
       "\n",
       "    .dataframe thead th {\n",
       "        text-align: right;\n",
       "    }\n",
       "</style>\n",
       "<table border=\"1\" class=\"dataframe\">\n",
       "  <thead>\n",
       "    <tr style=\"text-align: right;\">\n",
       "      <th></th>\n",
       "      <th>0</th>\n",
       "    </tr>\n",
       "  </thead>\n",
       "  <tbody>\n",
       "    <tr>\n",
       "      <th>0</th>\n",
       "      <td>low\n",
       "0    False\n",
       "1     True\n",
       "2    False\n",
       "3 ...</td>\n",
       "    </tr>\n",
       "  </tbody>\n",
       "</table>\n",
       "</div>"
      ],
      "text/plain": [
       "                                                   0\n",
       "0         low\n",
       "0    False\n",
       "1     True\n",
       "2    False\n",
       "3 ..."
      ]
     },
     "execution_count": 336,
     "metadata": {},
     "output_type": "execute_result"
    }
   ],
   "source": [
    "#绘制K线图\n",
    "'''\n",
    "fig = plt.figure(figsize=(24, 5))\n",
    "ax = fig.add_subplot(1, 1, 1)\n",
    "ax.set_xticks(range(0, len(data['date']), 10))\n",
    "ax.set_xticklabels(data['date'][::10])\n",
    "ax.legend(loc='upper left')\n",
    "\n",
    "mpf.candlestick2_ochl(ax, data['open'], data['close'], data['high'], data['low'],width=0.5, colorup='r', colordown='green',alpha=0.6)\n",
    "plt.grid()\n",
    "'''\n",
    "low = data[[\"low\"]]\n",
    "#low_Low= low[low<low.shift(3)][low<=low.shift(2)][low<=low.shift(1)][low<=low.shift(-1)][low<=low.shift(-2)][low<=low.shift(-3)] \n",
    "\n",
    "c1= [low<low.shift(1)] \n",
    "c2= [low<=low.shift(-1)]\n",
    "c3= [low<low.shift(2)]\n",
    "c4 = [low<=low.shift(-2)] \n",
    "c5= [low<low.shift(3)]\n",
    "c6 = [low<=low.shift(-3)] \n",
    "\n",
    "\n",
    "low_Low = low_Low.dropna()\n",
    "#画出低点\n",
    "#plt.plot(low_Low.index.values,low_Low.values,'o',color='red')\n",
    "low_Low\n",
    "ff  = pd.DataFrame(c1)\n",
    "ff"
   ]
  },
  {
   "cell_type": "code",
   "execution_count": 291,
   "metadata": {},
   "outputs": [
    {
     "name": "stdout",
     "output_type": "stream",
     "text": [
      "        low        rsi        date\n",
      "6     1.963        NaN  2005-01-31\n",
      "13    1.665  41.103242  2005-08-31\n",
      "20    1.563  40.480279  2006-03-31\n",
      "28    1.835  47.118864  2006-11-30\n",
      "39    2.500  48.874608  2007-10-31\n",
      "52    1.082  34.627535  2008-11-28\n",
      "70    4.866  59.803151  2010-05-31\n",
      "78    6.096  53.775655  2011-01-31\n",
      "90    3.419  27.813509  2012-01-31\n",
      "96    3.749  32.583233  2012-07-31\n",
      "101   3.744  46.077176  2012-12-31\n",
      "107   4.826  52.981795  2013-06-28\n",
      "134  13.345  50.083044  2015-09-30\n",
      "140  11.831  50.349510  2016-03-31\n",
      "150  12.355  41.905655  2017-01-26\n",
      "154   9.286  28.363443  2017-05-31\n",
      "163   7.700  33.807075  2018-02-28\n"
     ]
    },
    {
     "data": {
      "text/html": [
       "<div>\n",
       "<style scoped>\n",
       "    .dataframe tbody tr th:only-of-type {\n",
       "        vertical-align: middle;\n",
       "    }\n",
       "\n",
       "    .dataframe tbody tr th {\n",
       "        vertical-align: top;\n",
       "    }\n",
       "\n",
       "    .dataframe thead th {\n",
       "        text-align: right;\n",
       "    }\n",
       "</style>\n",
       "<table border=\"1\" class=\"dataframe\">\n",
       "  <thead>\n",
       "    <tr style=\"text-align: right;\">\n",
       "      <th></th>\n",
       "      <th>low</th>\n",
       "      <th>rsi</th>\n",
       "      <th>date</th>\n",
       "    </tr>\n",
       "  </thead>\n",
       "  <tbody>\n",
       "    <tr>\n",
       "      <th>52</th>\n",
       "      <td>1.082</td>\n",
       "      <td>34.627535</td>\n",
       "      <td>2008-11-28</td>\n",
       "    </tr>\n",
       "  </tbody>\n",
       "</table>\n",
       "</div>"
      ],
      "text/plain": [
       "      low        rsi        date\n",
       "52  1.082  34.627535  2008-11-28"
      ]
     },
     "execution_count": 291,
     "metadata": {},
     "output_type": "execute_result"
    }
   ],
   "source": [
    "#找底背离点\n",
    "low_Low[\"rsi\"] = data[[\"rsi\"]]\n",
    "low_Low[\"date\"] = data[[\"date\"]]\n",
    "\n",
    "def get_low_point(df,col,n):\n",
    "    conds = []\n",
    "    data = df \n",
    "    for i in range(0,n):\n",
    "        conds.append (  (df[col].shift(i+1)>=df[col]) &  (df[col].shift(-i-1)>=df[col])  )\n",
    "    condss = conds[0]\n",
    "    for c in conds:\n",
    "        \n",
    "        condss = condss&c\n",
    "         \n",
    "        \n",
    "    return data[conds[2] & conds[1] & conds[0]] \n",
    "    \n",
    "dest=low_Low[ (low_Low[\"low\"].shift(1)>low_Low[\"low\"]) & (low_Low[\"rsi\"].shift(1)>low_Low[\"rsi\"])  ]\n",
    "\n",
    "print  low_Low\n",
    "\n",
    "get_low_point(low_Low,\"low\",3)\n",
    " \n",
    "    "
   ]
  },
  {
   "cell_type": "code",
   "execution_count": null,
   "metadata": {},
   "outputs": [],
   "source": [
    "sma_10 = talib.SMA(np.array(data['close']), 10)\n",
    "sma_30 = talib.SMA(np.array(data['close']), 30)\n",
    "\n",
    "fig = plt.figure(figsize=(24, 8))\n",
    "ax = fig.add_subplot(1, 1, 1)\n",
    "ax.set_xticks(range(0, len(data['date']), 10))\n",
    "ax.set_xticklabels(data['date'][::10])\n",
    "ax.plot(sma_10, label='MA10')\n",
    "ax.plot(sma_30, label='MA30')\n",
    "ax.legend(loc='upper left')\n",
    "\n",
    "#mpf.candlestick2_ochl(ax, data['open'], data['close'], data['high'], data['low'],\n",
    "#                     width=0.5, colorup='r', colordown='green',\n",
    "#                     alpha=0.6)\n",
    "#plt.grid()\n",
    "\n",
    "\n",
    "\n",
    "\n",
    "\n",
    "\n",
    "\n",
    "\n",
    "\n",
    "\n",
    "\n",
    "\n",
    "\n",
    "\n",
    "\n",
    "\n",
    "\n",
    "\n",
    "\n",
    "\n",
    "\n",
    "\n",
    "\n",
    "\n",
    "\n",
    "\n",
    "\n",
    "\n",
    "\n",
    "\n",
    "\n",
    "\n"
   ]
  },
  {
   "cell_type": "code",
   "execution_count": null,
   "metadata": {},
   "outputs": [],
   "source": [
    " "
   ]
  }
 ],
 "metadata": {
  "kernelspec": {
   "display_name": "Python 2",
   "language": "python",
   "name": "python2"
  },
  "language_info": {
   "codemirror_mode": {
    "name": "ipython",
    "version": 2
   },
   "file_extension": ".py",
   "mimetype": "text/x-python",
   "name": "python",
   "nbconvert_exporter": "python",
   "pygments_lexer": "ipython2",
   "version": "2.7.14"
  }
 },
 "nbformat": 4,
 "nbformat_minor": 2
}
