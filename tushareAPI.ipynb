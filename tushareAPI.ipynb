{
 "cells": [
  {
   "cell_type": "markdown",
   "metadata": {},
   "source": [
    "### 安装 <a href=\"http://tushare.org/index.html\">tushare</a> \n",
    "    pip install tushare\n",
    " "
   ]
  },
  {
   "cell_type": "code",
   "execution_count": 26,
   "metadata": {},
   "outputs": [
    {
     "data": {
      "text/plain": [
       "0      12.68\n",
       "1      12.66\n",
       "2      12.66\n",
       "3      12.57\n",
       "4      12.73\n",
       "5      12.69\n",
       "6      12.69\n",
       "7      12.76\n",
       "8      12.75\n",
       "9      12.89\n",
       "10     12.59\n",
       "11     12.58\n",
       "12     12.43\n",
       "13     12.12\n",
       "14     12.26\n",
       "15     12.24\n",
       "16     12.32\n",
       "17     12.39\n",
       "18     12.44\n",
       "19     12.36\n",
       "20     12.29\n",
       "21     12.42\n",
       "22     12.47\n",
       "23     12.40\n",
       "24     12.28\n",
       "25     12.38\n",
       "26     12.34\n",
       "27     12.19\n",
       "28     12.62\n",
       "29     12.38\n",
       "       ...  \n",
       "452    13.97\n",
       "453    14.00\n",
       "454    13.95\n",
       "455    14.04\n",
       "456    14.07\n",
       "457    14.09\n",
       "458    13.89\n",
       "459    13.87\n",
       "460    13.90\n",
       "461    13.89\n",
       "462    13.90\n",
       "463    13.89\n",
       "464    13.88\n",
       "465    13.96\n",
       "466    13.96\n",
       "467    13.98\n",
       "468    13.93\n",
       "469    14.01\n",
       "470    14.01\n",
       "471    14.00\n",
       "472    14.02\n",
       "473    13.99\n",
       "474    14.15\n",
       "475    14.12\n",
       "476    14.02\n",
       "477    14.09\n",
       "478    14.13\n",
       "479    14.08\n",
       "480    14.17\n",
       "481    14.27\n",
       "Name: close, Length: 482, dtype: float64"
      ]
     },
     "execution_count": 26,
     "metadata": {},
     "output_type": "execute_result"
    }
   ],
   "source": [
    "import tushare as ts\n",
    "import matplotlib.pyplot as plt\n",
    "import matplotlib.finance as mpf\n",
    "import numpy as np\n",
    "import talib as tl\n",
    "import pandas as pd\n",
    "import datetime as dt\n",
    "\n",
    "\n",
    "df = ts.get_k_data('002408', ktype='60',autype=\"qfq\",index=False)\n",
    "\n",
    "df[\"close\"][\"datato\"]\n",
    "\n"
   ]
  },
  {
   "cell_type": "code",
   "execution_count": null,
   "metadata": {},
   "outputs": [],
   "source": [
    "df = ts.get_tick_data('002408',date='2018-05-14')\n",
    "df.head(100)\n",
    "\n",
    "df = ts.get_realtime_quotes('002408') #Single stock symbol\n",
    "df[['code','name','price','bid','ask','volume','amount','time']]\n",
    "\n",
    "df = ts.get_today_ticks('002408')\n",
    "df.head(10)"
   ]
  }
 ],
 "metadata": {
  "kernelspec": {
   "display_name": "Python 2",
   "language": "python",
   "name": "python2"
  },
  "language_info": {
   "codemirror_mode": {
    "name": "ipython",
    "version": 2
   },
   "file_extension": ".py",
   "mimetype": "text/x-python",
   "name": "python",
   "nbconvert_exporter": "python",
   "pygments_lexer": "ipython2",
   "version": "2.7.14"
  }
 },
 "nbformat": 4,
 "nbformat_minor": 2
}
