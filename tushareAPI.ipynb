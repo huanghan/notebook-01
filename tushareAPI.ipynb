{
 "cells": [
  {
   "cell_type": "markdown",
   "metadata": {},
   "source": [
    "### 安装 <a href=\"http://tushare.org/index.html\">tushare</a> \n",
    "    pip install tushare\n",
    " "
   ]
  },
  {
   "cell_type": "code",
   "execution_count": 123,
   "metadata": {},
   "outputs": [],
   "source": [
    "import tushare as ts\n",
    "import matplotlib.pyplot as plt\n",
    "import matplotlib.finance as mpf\n",
    "import numpy as np\n",
    "import talib as talib\n",
    "import pandas as pd\n",
    "import datetime as dt\n",
    "\n",
    "\n",
    "df = ts.get_k_data('002408', ktype='60',autype=\"qfq\",index=False)\n",
    "\n",
    "#RSI\n",
    "df[\"rsi\"] = talib.RSI(df['close'].values, timeperiod=9)\n",
    "df[\"macd\"],df[\"signal\"],df[\"hist\"] = talib.MACD(df['close'].values, fastperiod=12, slowperiod=26, signalperiod=9)\n",
    " \n"
   ]
  },
  {
   "cell_type": "code",
   "execution_count": 190,
   "metadata": {},
   "outputs": [
    {
     "data": {
      "text/plain": [
       "\"\\n#3\\xe6\\x97\\xa5\\xe5\\x86\\x85\\xe7\\x9a\\x84\\xe4\\xbd\\x8e\\xe7\\x82\\xb9\\nrsi_Low= rsi[rsi<rsi.shift(3)][rsi<rsi.shift(2)][rsi<rsi.shift(1)][rsi<rsi.shift(-1)][rsi<rsi.shift(-2)][rsi<rsi.shift(-3)] \\nrsi_Low = rsi_Low.dropna()\\nplt.plot(rsi_Low.index.values,rsi_Low.values,'o',color='red')\\n\\n#\\xe4\\xbd\\x8e\\xe7\\x82\\xb9\\xe7\\x9a\\x84\\xe4\\xbd\\x8e\\xe7\\x82\\xb9\\nrsi_Low_Low = rsi_Low    [ rsi_Low.shift(1) > rsi_Low ]   [ rsi_Low.shift(-1) > rsi_Low ]        \\nrsi_Low_Low= rsi_Low_Low.dropna()\\nplt.plot(rsi_Low_Low.index.values,rsi_Low_Low.values-rsi_Low_Low.values+2,'s',color='red')\\nplt.grid()\\n\""
      ]
     },
     "execution_count": 190,
     "metadata": {},
     "output_type": "execute_result"
    }
   ],
   "source": [
    "data = ts.get_k_data('002023', ktype='m',autype=\"qfq\",index=False,start='2001-01-01', end='2018-05-15')\n",
    "#RSI\n",
    "data[\"rsi\"] = talib.RSI(data['close'].values, timeperiod=9)\n",
    "#绘制RSI线图\n",
    "'''\n",
    "fig, ax = plt.subplots(figsize=(24,5))\n",
    "#设置坐标轴范围\n",
    "plt.xlabel('time')\n",
    "plt.ylabel('rsi')\n",
    "ax = fig.add_subplot(1, 1, 1)\n",
    "ax.set_xticks(range(0, len(data['date']), 10))\n",
    "ax.set_xticklabels(data['date'][::10])\n",
    "ax.legend(loc='upper left')\n",
    "\n",
    "#设置坐标轴范围\n",
    "#plt.xlim((-5, 5))\n",
    "plt.ylim((0, 100))\n",
    "\n",
    "plt.plot(data[\"date\"],data[\"rsi\"],color='red', linewidth=1.0, linestyle='-')\n",
    "plt.axhline(80,alpha=0.5,color='red',linestyle='--') \n",
    "plt.axhline(50,alpha=0.5,color='red',linestyle='--') \n",
    "plt.axhline(20,alpha=0.5,color='red',linestyle='--') \n",
    "'''\n",
    "\n",
    "rsi = data[\"rsi\"]\n",
    "'''\n",
    "#3日内的低点\n",
    "rsi_Low= rsi[rsi<rsi.shift(3)][rsi<rsi.shift(2)][rsi<rsi.shift(1)][rsi<rsi.shift(-1)][rsi<rsi.shift(-2)][rsi<rsi.shift(-3)] \n",
    "rsi_Low = rsi_Low.dropna()\n",
    "plt.plot(rsi_Low.index.values,rsi_Low.values,'o',color='red')\n",
    "\n",
    "#低点的低点\n",
    "rsi_Low_Low = rsi_Low    [ rsi_Low.shift(1) > rsi_Low ]   [ rsi_Low.shift(-1) > rsi_Low ]        \n",
    "rsi_Low_Low= rsi_Low_Low.dropna()\n",
    "plt.plot(rsi_Low_Low.index.values,rsi_Low_Low.values-rsi_Low_Low.values+2,'s',color='red')\n",
    "plt.grid()\n",
    "'''"
   ]
  },
  {
   "cell_type": "code",
   "execution_count": 187,
   "metadata": {},
   "outputs": [],
   "source": [
    "#绘制K线图\n",
    "'''\n",
    "fig = plt.figure(figsize=(24, 5))\n",
    "ax = fig.add_subplot(1, 1, 1)\n",
    "ax.set_xticks(range(0, len(data['date']), 10))\n",
    "ax.set_xticklabels(data['date'][::10])\n",
    "ax.legend(loc='upper left')\n",
    "\n",
    "mpf.candlestick2_ochl(ax, data['open'], data['close'], data['high'], data['low'],width=0.5, colorup='r', colordown='green',alpha=0.6)\n",
    "plt.grid()\n",
    "'''\n",
    "low = data[[\"date\",\"low\"]]\n",
    "low_Low= low[low<low.shift(3)][low<=low.shift(2)][low<=low.shift(1)][low<=low.shift(-1)][low<=low.shift(-2)][low<=low.shift(-3)] \n",
    "low_Low = low_Low.dropna()\n",
    "#画出低点\n",
    "#plt.plot(low_Low.index.values,low_Low.values,'o',color='red')"
   ]
  },
  {
   "cell_type": "code",
   "execution_count": 185,
   "metadata": {},
   "outputs": [
    {
     "data": {
      "text/html": [
       "<div>\n",
       "<style scoped>\n",
       "    .dataframe tbody tr th:only-of-type {\n",
       "        vertical-align: middle;\n",
       "    }\n",
       "\n",
       "    .dataframe tbody tr th {\n",
       "        vertical-align: top;\n",
       "    }\n",
       "\n",
       "    .dataframe thead th {\n",
       "        text-align: right;\n",
       "    }\n",
       "</style>\n",
       "<table border=\"1\" class=\"dataframe\">\n",
       "  <thead>\n",
       "    <tr style=\"text-align: right;\">\n",
       "      <th></th>\n",
       "      <th>date</th>\n",
       "      <th>low</th>\n",
       "    </tr>\n",
       "  </thead>\n",
       "  <tbody>\n",
       "  </tbody>\n",
       "</table>\n",
       "</div>"
      ],
      "text/plain": [
       "Empty DataFrame\n",
       "Columns: [date, low]\n",
       "Index: []"
      ]
     },
     "execution_count": 185,
     "metadata": {},
     "output_type": "execute_result"
    }
   ],
   "source": [
    "#找底背离点\n",
    " \n",
    "#data[ data[\"low\"].shift(1)>data[\"low\"] ]  [ data[\"rsi\"].shift(1)<data[\"rsi\"]  ]\n",
    "#low_Low[\"rsi\"]=data[\"rsi\"]\n",
    "#low_Low[\"rsi\"]\n",
    "low_Low"
   ]
  },
  {
   "cell_type": "code",
   "execution_count": null,
   "metadata": {},
   "outputs": [],
   "source": [
    "sma_10 = talib.SMA(np.array(data['close']), 10)\n",
    "sma_30 = talib.SMA(np.array(data['close']), 30)\n",
    "\n",
    "fig = plt.figure(figsize=(24, 8))\n",
    "ax = fig.add_subplot(1, 1, 1)\n",
    "ax.set_xticks(range(0, len(data['date']), 10))\n",
    "ax.set_xticklabels(data['date'][::10])\n",
    "ax.plot(sma_10, label='MA10')\n",
    "ax.plot(sma_30, label='MA30')\n",
    "ax.legend(loc='upper left')\n",
    "\n",
    "#mpf.candlestick2_ochl(ax, data['open'], data['close'], data['high'], data['low'],\n",
    "#                     width=0.5, colorup='r', colordown='green',\n",
    "#                     alpha=0.6)\n",
    "#plt.grid()\n",
    "\n",
    "\n",
    "\n",
    "\n",
    "\n",
    "\n",
    "\n",
    "\n",
    "\n",
    "\n",
    "\n",
    "\n",
    "\n",
    "\n",
    "\n",
    "\n",
    "\n",
    "\n",
    "\n",
    "\n",
    "\n",
    "\n",
    "\n",
    "\n",
    "\n",
    "\n",
    "\n",
    "\n",
    "\n",
    "\n",
    "\n",
    "\n"
   ]
  },
  {
   "cell_type": "code",
   "execution_count": null,
   "metadata": {},
   "outputs": [],
   "source": [
    " "
   ]
  }
 ],
 "metadata": {
  "kernelspec": {
   "display_name": "Python 2",
   "language": "python",
   "name": "python2"
  },
  "language_info": {
   "codemirror_mode": {
    "name": "ipython",
    "version": 2
   },
   "file_extension": ".py",
   "mimetype": "text/x-python",
   "name": "python",
   "nbconvert_exporter": "python",
   "pygments_lexer": "ipython2",
   "version": "2.7.14"
  }
 },
 "nbformat": 4,
 "nbformat_minor": 2
}
